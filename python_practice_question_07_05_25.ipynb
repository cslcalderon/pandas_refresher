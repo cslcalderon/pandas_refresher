{
 "cells": [
  {
   "cell_type": "code",
   "execution_count": 3,
   "id": "088f2ca6",
   "metadata": {},
   "outputs": [],
   "source": [
    "data = [\n",
    "    {\"name\": \" Alice \", \"score\": \" 90\", \"city\": \"Austin\"},\n",
    "    {\"name\": \"Bob\", \"score\": \"\", \"city\": \"Dallas\"},\n",
    "    {\"name\": \" Charlie\", \"score\": \"85 \", \"city\": \"Austin\"}\n",
    "]"
   ]
  },
  {
   "cell_type": "code",
   "execution_count": 20,
   "id": "777afa52",
   "metadata": {},
   "outputs": [],
   "source": [
    "def clean_rows(data):\n",
    "    cleaned_data = []\n",
    "    for row in data: \n",
    "\n",
    "        if row['score'].strip() != \"\":\n",
    "            score = int(row['score'].strip())\n",
    "        else:\n",
    "            continue\n",
    "\n",
    "        if row['name']:\n",
    "            name = row['name'].strip()\n",
    "        \n",
    "        if row['city']:\n",
    "            city = row['city'].strip()\n",
    "        \n",
    "        cleaned_data.append({'name': name, 'score': score, 'city': city})\n",
    "    \n",
    "    return cleaned_data\n"
   ]
  },
  {
   "cell_type": "code",
   "execution_count": 22,
   "id": "bdd20bc4",
   "metadata": {},
   "outputs": [
    {
     "data": {
      "text/plain": [
       "[{'name': 'Alice', 'score': 90, 'city': 'Austin'},\n",
       " {'name': 'Charlie', 'score': 85, 'city': 'Austin'}]"
      ]
     },
     "execution_count": 22,
     "metadata": {},
     "output_type": "execute_result"
    }
   ],
   "source": [
    "clean_rows(data)"
   ]
  },
  {
   "cell_type": "code",
   "execution_count": 8,
   "id": "c929ccc8",
   "metadata": {},
   "outputs": [],
   "source": [
    "def clean_rows_efficient(data):\n",
    "    cleaned_data = []\n",
    "    for row in data: \n",
    "        if row['score'].strip(): \n",
    "            score = int(row['score'].strip())\n",
    "            if score and row['name'] and row['city']:\n",
    "                cleaned_data.append({'name': row['name'], 'score': row['score'], 'city': row['city']})\n",
    "\n",
    "    return cleaned_data"
   ]
  },
  {
   "cell_type": "code",
   "execution_count": 9,
   "id": "29200bc8",
   "metadata": {},
   "outputs": [
    {
     "data": {
      "text/plain": [
       "[{'name': ' Alice ', 'score': ' 90', 'city': 'Austin'},\n",
       " {'name': ' Charlie', 'score': '85 ', 'city': 'Austin'}]"
      ]
     },
     "execution_count": 9,
     "metadata": {},
     "output_type": "execute_result"
    }
   ],
   "source": [
    "clean_rows_efficient(data)"
   ]
  },
  {
   "cell_type": "code",
   "execution_count": null,
   "id": "9abe1e12",
   "metadata": {},
   "outputs": [
    {
     "data": {
      "text/plain": [
       "[' Alice ', ' Charlie']"
      ]
     },
     "execution_count": 10,
     "metadata": {},
     "output_type": "execute_result"
    }
   ],
   "source": [
    "def filter_high_scores(data, threshold):\n",
    "    threshold_names = []\n",
    "    for row in data: \n",
    "        if row['score'].strip():\n",
    "            score = int(row['score'].strip())\n",
    "            if score >= threshold:\n",
    "                threshold_names.append(row['name'].strip())\n",
    "    return threshold_names\n",
    "\n",
    "filter_high_scores(data, 30)"
   ]
  },
  {
   "cell_type": "code",
   "execution_count": 11,
   "id": "b7567681",
   "metadata": {},
   "outputs": [],
   "source": [
    "sales_data = [\n",
    "    {\"customer\": \" Alice \", \"amount\": \" 100.50 \", \"date\": \"2025-01-01\"},\n",
    "    {\"customer\": \"Bob\", \"amount\": \"\", \"date\": \"2025-01-02\"},\n",
    "    {\"customer\": \"  Charlie\", \"amount\": \"200.75\", \"date\": \"2025-01-02\"}\n",
    "]"
   ]
  },
  {
   "cell_type": "code",
   "execution_count": null,
   "id": "de3765c1",
   "metadata": {},
   "outputs": [
    {
     "data": {
      "text/plain": [
       "[{'customer': '100.50', 'amount': 100.5, 'date': '2025-01-01'},\n",
       " {'customer': '200.75', 'amount': 200.75, 'date': '2025-01-02'}]"
      ]
     },
     "execution_count": 13,
     "metadata": {},
     "output_type": "execute_result"
    }
   ],
   "source": [
    "def clean_sales_data(data):\n",
    "    cleaned_rows = []\n",
    "    for row in data: \n",
    "        if row['amount'].strip():\n",
    "            amount = float(row['amount'].strip())\n",
    "            customer = row['customer'].strip()\n",
    "            date = row['date'].strip()\n",
    "            cleaned_rows.append({'customer': customer, 'amount': amount, 'date': date})\n",
    "    return cleaned_rows\n",
    "\n",
    "clean_sales_data(sales_data)\n",
    "\n"
   ]
  },
  {
   "cell_type": "code",
   "execution_count": null,
   "id": "af6ef3b0",
   "metadata": {},
   "outputs": [],
   "source": []
  },
  {
   "cell_type": "code",
   "execution_count": null,
   "id": "9404e135",
   "metadata": {},
   "outputs": [],
   "source": []
  },
  {
   "cell_type": "code",
   "execution_count": null,
   "id": "b6db759d",
   "metadata": {},
   "outputs": [],
   "source": []
  }
 ],
 "metadata": {
  "kernelspec": {
   "display_name": "Python 3",
   "language": "python",
   "name": "python3"
  },
  "language_info": {
   "codemirror_mode": {
    "name": "ipython",
    "version": 3
   },
   "file_extension": ".py",
   "mimetype": "text/x-python",
   "name": "python",
   "nbconvert_exporter": "python",
   "pygments_lexer": "ipython3",
   "version": "3.11.4"
  }
 },
 "nbformat": 4,
 "nbformat_minor": 5
}
