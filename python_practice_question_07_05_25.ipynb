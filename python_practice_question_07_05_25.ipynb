{
 "cells": [
  {
   "cell_type": "code",
   "execution_count": 3,
   "id": "088f2ca6",
   "metadata": {},
   "outputs": [],
   "source": [
    "data = [\n",
    "    {\"name\": \" Alice \", \"score\": \" 90\", \"city\": \"Austin\"},\n",
    "    {\"name\": \"Bob\", \"score\": \"\", \"city\": \"Dallas\"},\n",
    "    {\"name\": \" Charlie\", \"score\": \"85 \", \"city\": \"Austin\"}\n",
    "]"
   ]
  },
  {
   "cell_type": "code",
   "execution_count": null,
   "id": "3934552a",
   "metadata": {},
   "outputs": [],
   "source": []
  },
  {
   "cell_type": "code",
   "execution_count": 20,
   "id": "777afa52",
   "metadata": {},
   "outputs": [],
   "source": [
    "def clean_rows(data):\n",
    "    cleaned_data = []\n",
    "    for row in data: \n",
    "\n",
    "        if row['score'].strip() != \"\":\n",
    "            score = int(row['score'].strip())\n",
    "        else:\n",
    "            continue\n",
    "\n",
    "        if row['name']:\n",
    "            name = row['name'].strip()\n",
    "        \n",
    "        if row['city']:\n",
    "            city = row['city'].strip()\n",
    "        \n",
    "        cleaned_data.append({'name': name, 'score': score, 'city': city})\n",
    "    \n",
    "    return cleaned_data\n"
   ]
  },
  {
   "cell_type": "code",
   "execution_count": 22,
   "id": "bdd20bc4",
   "metadata": {},
   "outputs": [
    {
     "data": {
      "text/plain": [
       "[{'name': 'Alice', 'score': 90, 'city': 'Austin'},\n",
       " {'name': 'Charlie', 'score': 85, 'city': 'Austin'}]"
      ]
     },
     "execution_count": 22,
     "metadata": {},
     "output_type": "execute_result"
    }
   ],
   "source": [
    "clean_rows(data)"
   ]
  },
  {
   "cell_type": "code",
   "execution_count": 33,
   "id": "c929ccc8",
   "metadata": {},
   "outputs": [],
   "source": [
    "def clean_rows_efficient(data):\n",
    "    cleaned_data = []\n",
    "    for row in data: \n",
    "        if row['score'].strip(): \n",
    "            score = int(row['score'].strip())\n",
    "            if score and row['name'] and row['city']:\n",
    "                cleaned_data.append({'name': row['name'], 'score': score, 'city': row['city']})\n",
    "\n",
    "    return cleaned_data"
   ]
  },
  {
   "cell_type": "code",
   "execution_count": 9,
   "id": "29200bc8",
   "metadata": {},
   "outputs": [
    {
     "data": {
      "text/plain": [
       "[{'name': ' Alice ', 'score': ' 90', 'city': 'Austin'},\n",
       " {'name': ' Charlie', 'score': '85 ', 'city': 'Austin'}]"
      ]
     },
     "execution_count": 9,
     "metadata": {},
     "output_type": "execute_result"
    }
   ],
   "source": [
    "clean_rows_efficient(data)"
   ]
  },
  {
   "cell_type": "code",
   "execution_count": null,
   "id": "9abe1e12",
   "metadata": {},
   "outputs": [
    {
     "data": {
      "text/plain": [
       "[' Alice ', ' Charlie']"
      ]
     },
     "execution_count": 10,
     "metadata": {},
     "output_type": "execute_result"
    }
   ],
   "source": [
    "def filter_high_scores(data, threshold):\n",
    "    threshold_names = []\n",
    "    for row in data: \n",
    "        if row['score'].strip():\n",
    "            score = int(row['score'].strip())\n",
    "            if score >= threshold:\n",
    "                threshold_names.append(row['name'].strip())\n",
    "    return threshold_names\n",
    "\n",
    "filter_high_scores(data, 30)"
   ]
  },
  {
   "cell_type": "code",
   "execution_count": 11,
   "id": "b7567681",
   "metadata": {},
   "outputs": [],
   "source": [
    "sales_data = [\n",
    "    {\"customer\": \" Alice \", \"amount\": \" 100.50 \", \"date\": \"2025-01-01\"},\n",
    "    {\"customer\": \"Bob\", \"amount\": \"\", \"date\": \"2025-01-02\"},\n",
    "    {\"customer\": \"  Charlie\", \"amount\": \"200.75\", \"date\": \"2025-01-02\"}\n",
    "]"
   ]
  },
  {
   "cell_type": "code",
   "execution_count": 14,
   "id": "de3765c1",
   "metadata": {},
   "outputs": [
    {
     "data": {
      "text/plain": [
       "[{'customer': 'Alice', 'amount': 100.5, 'date': '2025-01-01'},\n",
       " {'customer': 'Charlie', 'amount': 200.75, 'date': '2025-01-02'}]"
      ]
     },
     "execution_count": 14,
     "metadata": {},
     "output_type": "execute_result"
    }
   ],
   "source": [
    "def clean_sales_data(data):\n",
    "    cleaned_rows = []\n",
    "    for row in data: \n",
    "        if row['amount'].strip():\n",
    "            amount = float(row['amount'].strip())\n",
    "            customer = row['customer'].strip()\n",
    "            date = row['date'].strip()\n",
    "            cleaned_rows.append({'customer': customer, 'amount': amount, 'date': date})\n",
    "    return cleaned_rows\n",
    "\n",
    "clean_sales_data(sales_data)\n",
    "\n"
   ]
  },
  {
   "cell_type": "code",
   "execution_count": 16,
   "id": "2dfa6320",
   "metadata": {},
   "outputs": [],
   "source": [
    "transactions = [\n",
    "    {\"id\": \"001\", \"amount\": \" 45 \", \"status\": \"complete\"},\n",
    "    {\"id\": \"002\", \"amount\": \"\", \"status\": \"failed\"},\n",
    "    {\"id\": \"003\", \"amount\": \" 150 \", \"status\": \"complete\"},\n",
    "    {\"id\": \"004\", \"amount\": \" 80 \", \"status\": \"pending\"}\n",
    "]"
   ]
  },
  {
   "cell_type": "code",
   "execution_count": 20,
   "id": "61e26491",
   "metadata": {},
   "outputs": [
    {
     "data": {
      "text/plain": [
       "['001', '003']"
      ]
     },
     "execution_count": 20,
     "metadata": {},
     "output_type": "execute_result"
    }
   ],
   "source": [
    "def filter_transactions(data, threshold):\n",
    "    valid_ids = []\n",
    "    for row in data: \n",
    "        if row['amount'].strip():\n",
    "            amount = int(row['amount'].strip())\n",
    "            if amount >= threshold and row['status'] == 'complete': \n",
    "                valid_ids.append(row['id'].strip())\n",
    "    return valid_ids\n",
    "\n",
    "filter_transactions(transactions, 20)"
   ]
  },
  {
   "cell_type": "markdown",
   "id": "1023526c",
   "metadata": {},
   "source": [
    "### JSON Parsing"
   ]
  },
  {
   "cell_type": "code",
   "execution_count": null,
   "id": "244de5b2",
   "metadata": {},
   "outputs": [],
   "source": [
    "import json\n",
    "#loads on a string\n",
    "#load from a file"
   ]
  },
  {
   "cell_type": "code",
   "execution_count": 22,
   "id": "b6d55a0a",
   "metadata": {},
   "outputs": [],
   "source": [
    "json_string = '[{\"name\": \"Alice\", \"score\": \" 95 \"}, {\"name\": \"Bob\", \"score\": \"\"}, {\"name\": \"Charlie\", \"score\": \" 88 \"}]'"
   ]
  },
  {
   "cell_type": "code",
   "execution_count": 31,
   "id": "466c09e2",
   "metadata": {},
   "outputs": [
    {
     "data": {
      "text/plain": [
       "[{'name': 'Alice', 'score': 95}, {'name': 'Charlie', 'score': 88}]"
      ]
     },
     "execution_count": 31,
     "metadata": {},
     "output_type": "execute_result"
    }
   ],
   "source": [
    "def parse_and_clean_json(json_str):\n",
    "    final_data = []\n",
    "    data = json.loads(json_str)\n",
    "    for row in data: \n",
    "        if row['score'].strip():\n",
    "            score = int(row['score'].strip())\n",
    "            name = row['name'].strip()\n",
    "            final_data.append({'name': name, 'score': score})\n",
    "    return final_data\n",
    "\n",
    "parse_and_clean_json(json_string)"
   ]
  },
  {
   "cell_type": "markdown",
   "id": "89cd033d",
   "metadata": {},
   "source": [
    "### Simple Transformations"
   ]
  },
  {
   "cell_type": "code",
   "execution_count": 34,
   "id": "15452ca4",
   "metadata": {},
   "outputs": [],
   "source": [
    "numbers = [1, 2, 3, 4, 5, 6]"
   ]
  },
  {
   "cell_type": "code",
   "execution_count": 35,
   "id": "bf222b36",
   "metadata": {},
   "outputs": [
    {
     "data": {
      "text/plain": [
       "[4, 16, 36]"
      ]
     },
     "execution_count": 35,
     "metadata": {},
     "output_type": "execute_result"
    }
   ],
   "source": [
    "def square_of_even(nums):\n",
    "    final_nums = []\n",
    "    for num in nums: \n",
    "        if num % 2 == 0:\n",
    "            final_nums.append(num ** 2)\n",
    "    return final_nums\n",
    "\n",
    "square_of_even(numbers)\n"
   ]
  },
  {
   "cell_type": "code",
   "execution_count": 36,
   "id": "6303d1dd",
   "metadata": {},
   "outputs": [
    {
     "data": {
      "text/plain": [
       "[4, 16, 36]"
      ]
     },
     "execution_count": 36,
     "metadata": {},
     "output_type": "execute_result"
    }
   ],
   "source": [
    "def square_of_even_list_comp(nums):\n",
    "    return [num ** 2 for num in nums if num % 2 == 0]\n",
    "square_of_even_list_comp(numbers)"
   ]
  },
  {
   "cell_type": "code",
   "execution_count": null,
   "id": "c566e80e",
   "metadata": {},
   "outputs": [],
   "source": []
  },
  {
   "cell_type": "code",
   "execution_count": null,
   "id": "9404e135",
   "metadata": {},
   "outputs": [],
   "source": []
  },
  {
   "cell_type": "code",
   "execution_count": null,
   "id": "b6db759d",
   "metadata": {},
   "outputs": [],
   "source": []
  }
 ],
 "metadata": {
  "kernelspec": {
   "display_name": "Python 3",
   "language": "python",
   "name": "python3"
  },
  "language_info": {
   "codemirror_mode": {
    "name": "ipython",
    "version": 3
   },
   "file_extension": ".py",
   "mimetype": "text/x-python",
   "name": "python",
   "nbconvert_exporter": "python",
   "pygments_lexer": "ipython3",
   "version": "3.11.4"
  }
 },
 "nbformat": 4,
 "nbformat_minor": 5
}
